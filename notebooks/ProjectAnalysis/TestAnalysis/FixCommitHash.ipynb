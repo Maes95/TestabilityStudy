{
 "cells": [
  {
   "cell_type": "code",
   "execution_count": 5,
   "id": "638f9cfb",
   "metadata": {},
   "outputs": [],
   "source": [
    "import sys\n",
    "import json\n",
    "import os\n",
    "# To import python scripts from other folders\n",
    "sys.path.append('../')\n",
    "sys.path.append('../../../py/')\n",
    "from GitManager import GitManager, DELIMITER\n",
    "from ProjectTestAnalysis import ProjectTestAnalysis\n",
    "import pandas as pd\n",
    "root=\"/home/jovyan/work\"\n",
    "procesed_results_path=root+\"/notebooks/ProjectAnalysis/TestAnalysis/results/\""
   ]
  },
  {
   "cell_type": "code",
   "execution_count": 6,
   "id": "2c6dd910",
   "metadata": {},
   "outputs": [],
   "source": [
    "def getProjects(dataset):\n",
    "    path = root+\"/configFiles/%sProjects/\"%dataset\n",
    "    projects = []\n",
    "    for configFile in os.listdir(path):\n",
    "        with open(path+configFile) as f:\n",
    "            project_info = json.load(f)\n",
    "            if os.path.isdir(procesed_results_path+project_info[\"project\"]):\n",
    "                projects.append((dataset, project_info[\"project\"]))\n",
    "    return projects\n",
    "many4j = getProjects(\"ManySStub4J\")\n",
    "all_datasets = many4j"
   ]
  },
  {
   "cell_type": "code",
   "execution_count": 13,
   "id": "ad6f17dd",
   "metadata": {},
   "outputs": [],
   "source": [
    "def fix_commits(project):\n",
    "    pa = ProjectTestAnalysis(project,  2, root=root)\n",
    "    \n",
    "    report_commits = pa.report.to_dict('records')\n",
    "    new_report_commits = []\n",
    "    \n",
    "    summary_commits = pa.summary.to_dict('records')\n",
    "    new_summary_commits = []\n",
    "    \n",
    "    base_commit = report_commits[-1]['commit']\n",
    "    \n",
    "    raw_commit_log_list = GitManager(root+\"/projects/\"+project, base_commit).getAllCommits()\n",
    "    commit_list = [ c.split(DELIMITER)[0].replace('\"', '') for c in raw_commit_log_list]\n",
    "    \n",
    "    for idx, commit_hash in enumerate(commit_list):\n",
    "        \n",
    "        commit_info_report = report_commits[idx]\n",
    "        commit_info_summary = summary_commits[idx]\n",
    "        \n",
    "        if not commit_hash.startswith(commit_info_report['commit']): \n",
    "            print(commit_hash)\n",
    "            raise Exception(\"Error: \" + project + \" - \" + commit_info_report['commit'] + \" - \" + str(idx))\n",
    "        \n",
    "        commit_info_report['commit'] = commit_hash\n",
    "        new_report_commits.append(commit_info_report)\n",
    "        \n",
    "        commit_info_summary['commit'] = commit_hash\n",
    "        new_summary_commits.append(commit_info_summary)\n",
    "        \n",
    "    pd.DataFrame(new_report_commits).to_csv(procesed_results_path+project+\"/report.csv\", index=False)\n",
    "    pd.DataFrame(new_summary_commits).to_csv(procesed_results_path+project+\"/summary.csv\", index=False)\n",
    "    \n",
    "fix_commits(\"spring-boot\")"
   ]
  },
  {
   "cell_type": "code",
   "execution_count": null,
   "id": "a60a3312",
   "metadata": {},
   "outputs": [],
   "source": [
    "for _, project in all_datasets:\n",
    "    try:\n",
    "          fix_commits(project)\n",
    "    except Exception as e:\n",
    "          print(e)"
   ]
  },
  {
   "cell_type": "code",
   "execution_count": 10,
   "id": "27697878",
   "metadata": {},
   "outputs": [],
   "source": [
    "def fix_commits2(project):\n",
    "    pa = ProjectTestAnalysis(project,  2, root=root)\n",
    "    \n",
    "    report_commits = pa.report.to_dict('records')\n",
    "    new_report_commits = []\n",
    "    \n",
    "    summary_commits = pa.summary.to_dict('records')\n",
    "    new_summary_commits = []\n",
    "    \n",
    "    base_commit = report_commits[-1]['commit']\n",
    "    \n",
    "    raw_commit_log_list = GitManager(root+\"/projects/\"+project, base_commit).getAllCommits()\n",
    "    commit_list = [ c.split(DELIMITER)[0].replace('\"', '') for c in raw_commit_log_list]\n",
    "    \n",
    "    commit_list_map = {}\n",
    "    for _hash in commit_list:\n",
    "        hash8 = _hash[0:8]\n",
    "        if hash8 not in commit_list_map:\n",
    "            commit_list_map[hash8] = []\n",
    "        else:\n",
    "            print(\"Conflict\")\n",
    "        commit_list_map[hash8].append(_hash)\n",
    "        \n",
    "        if len(commit_list_map[hash8]) > 1:\n",
    "            print(commit_list_map[hash8])\n",
    "        \n",
    "    \n",
    "    for idx, commit_info_report in enumerate(report_commits):\n",
    "        \n",
    "        commit_info_summary = summary_commits[idx]\n",
    "        \n",
    "        hash8 = commit_info_report['commit']\n",
    "        \n",
    "        commit_hash = hash8\n",
    "        \n",
    "        if hash8 in commit_list_map:\n",
    "            commit_hash = commit_list_map[hash8][0]\n",
    "        else: \n",
    "            pass#print(\"Commit not longer in git: %s\"%hash8)\n",
    "        \n",
    "        \n",
    "        commit_info_report['commit'] = commit_hash\n",
    "        new_report_commits.append(commit_info_report)\n",
    "        \n",
    "        commit_info_summary['commit'] = commit_hash\n",
    "        new_summary_commits.append(commit_info_summary)\n",
    "        \n",
    "#     pd.DataFrame(new_report_commits).to_csv(procesed_results_path+project+\"/report_new.csv\", index=False)\n",
    "#     pd.DataFrame(new_summary_commits).to_csv(procesed_results_path+project+\"/summary_new.csv\", index=False)"
   ]
  },
  {
   "cell_type": "code",
   "execution_count": 11,
   "id": "812c3ad3",
   "metadata": {},
   "outputs": [
    {
     "name": "stdout",
     "output_type": "stream",
     "text": [
      "Conflict\n",
      "['df268902ff11c1d318302bd3affc1eae92eefbe1', 'df268902a073c725dc59dac3da42d93c87de7e42']\n"
     ]
    }
   ],
   "source": [
    "fix_commits2(\"neo4j\")"
   ]
  },
  {
   "cell_type": "code",
   "execution_count": null,
   "id": "0f1c36db",
   "metadata": {
    "scrolled": false
   },
   "outputs": [],
   "source": [
    "fix_commits2(\"dropwizard\")"
   ]
  },
  {
   "cell_type": "code",
   "execution_count": null,
   "id": "15917586",
   "metadata": {},
   "outputs": [],
   "source": [
    "fix_commits2(\"jedis\")"
   ]
  },
  {
   "cell_type": "code",
   "execution_count": null,
   "id": "fe2db292",
   "metadata": {},
   "outputs": [],
   "source": [
    "fix_commits2(\"antlr4\")"
   ]
  }
 ],
 "metadata": {
  "kernelspec": {
   "display_name": "Python 3 (ipykernel)",
   "language": "python",
   "name": "python3"
  },
  "language_info": {
   "codemirror_mode": {
    "name": "ipython",
    "version": 3
   },
   "file_extension": ".py",
   "mimetype": "text/x-python",
   "name": "python",
   "nbconvert_exporter": "python",
   "pygments_lexer": "ipython3",
   "version": "3.9.5"
  }
 },
 "nbformat": 4,
 "nbformat_minor": 5
}
